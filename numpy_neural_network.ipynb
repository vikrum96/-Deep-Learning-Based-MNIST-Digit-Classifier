{
  "nbformat": 4,
  "nbformat_minor": 0,
  "metadata": {
    "colab": {
      "provenance": []
    },
    "kernelspec": {
      "name": "python3",
      "display_name": "Python 3"
    },
    "language_info": {
      "name": "python"
    }
  },
  "cells": [
    {
      "cell_type": "code",
      "execution_count": 41,
      "metadata": {
        "id": "MiyCZeIhfRtK"
      },
      "outputs": [],
      "source": [
        "import numpy as np\n",
        "from matplotlib import pyplot as plt\n",
        "from tensorflow.keras.datasets import mnist"
      ]
    },
    {
      "cell_type": "code",
      "source": [
        "### Load the data set and process the data ###\n",
        "(train_imgs, train_labels), (test_imgs, test_labels) = mnist.load_data()\n",
        "# -1 makes it so that it automatically detects the dimension (in this case from (28,28) -> (784,))\n",
        "# Dividing by 255 normalizes the pixel values between 0 and 1\n",
        "train_imgs_flat = train_imgs.reshape(train_imgs.shape[0], -1) / 255.0\n",
        "test_imgs_flat = test_imgs.reshape(test_imgs.shape[0], -1) / 255.0\n",
        "\n",
        "def one_hot_encode(labels, num_classes=10):\n",
        "  one_hot_labels = np.zeros((labels.shape[0], num_classes))\n",
        "  one_hot_labels[np.arange(labels.shape[0]), labels] = 1\n",
        "  return one_hot_labels"
      ],
      "metadata": {
        "id": "20wqn0k1rPrr"
      },
      "execution_count": 42,
      "outputs": []
    },
    {
      "cell_type": "code",
      "source": [
        "# The neural network has 1 input layer, 1 hidden layer, and 1 output layer #\n",
        "input_size = 784  # 28x28 pixels\n",
        "hidden_size = 128  # This can be adjusted\n",
        "output_size = 10  # There are 10 digits\n",
        "\n",
        "# HE Initialization used for W1 and W2, good for ReLU activation functions\n",
        "W1 = np.random.randn(input_size, hidden_size) * np.sqrt(2. / input_size)\n",
        "b1 = np.zeros((1, hidden_size))\n",
        "W2 = np.random.randn(hidden_size, output_size) * np.sqrt(2. / input_size)\n",
        "b2 = np.zeros((1, output_size))"
      ],
      "metadata": {
        "id": "SrEg-BTwFWJG"
      },
      "execution_count": 43,
      "outputs": []
    },
    {
      "cell_type": "code",
      "source": [
        "# Relu activation function used for the hidden layer\n",
        "def relu(Z):\n",
        "  return np.maximum(0, Z)\n",
        "\n",
        "# Softmax activation function used for the output layer\n",
        "def softmax(Z):\n",
        "  return np.exp(Z) / np.sum(np.exp(Z), axis=1, keepdims=True)\n",
        "\n",
        "def forward_prop(X):\n",
        "  # np.dot(input of that layer, w) + b_layer\n",
        "\n",
        "  # Hidden Layer\n",
        "  Z1 = np.dot(X, W1) + b1\n",
        "  A1 = relu(Z1)\n",
        "\n",
        "  # Output Layer\n",
        "  Z2 = np.dot(A1, W2) + b2\n",
        "  A2 = softmax(Z2)\n",
        "\n",
        "  return Z1, A1, Z2, A2\n",
        "\n",
        "# Multi Class Cross-Entropy Loss Function\n",
        "def loss(y_hat, y): # y_hat: prediction, y: true value\n",
        "  m = y.shape[0]\n",
        "  y_one_hot = one_hot_encode(y)\n",
        "  func = np.log(y_hat + 1e-15)\n",
        "  loss = np.sum(y_one_hot * func) * (-1/m)\n",
        "  return loss\n",
        "\n",
        "def backward_prop(X, y, Z1, A1, Z2, A2):\n",
        "  m = X.shape[0]\n",
        "\n",
        "  # Output Layer Gradients\n",
        "  dZ2 = A2 - one_hot_encode(y)\n",
        "  dW2 = np.dot(A1.T, dZ2)/m\n",
        "  db2 = np.sum(dZ2, axis=0, keepdims=True)/m\n",
        "\n",
        "  # Hidden Layer Gradients\n",
        "  dA1 = np.dot(dZ2, W2.T)\n",
        "  dZ1 = dA1 * (Z1 > 0)  # dA1 * derivative of relu(Z1)\n",
        "  dW1 = np.dot(X.T, dZ1)/m\n",
        "  db1 = np.sum(dZ1, axis=0, keepdims=True)/m\n",
        "\n",
        "  return dW1, db1, dW2, db2\n",
        "\n",
        "def update_weights(W1, b1, W2, b2, dW1, db1, dW2, db2, alpha=0.01):\n",
        "  # Paramater = Parameter - alpha (learning rate) * (gradient of loss with respect ot that parameter)\n",
        "  W1 -= alpha * dW1\n",
        "  b1 -= alpha * db1\n",
        "  W2 -= alpha * dW2\n",
        "  b2 -= alpha * db2\n",
        "  return W1, b1, W2, b2\n",
        "\n",
        "def train_model(X_train, y_train, epochs, alpha):\n",
        "  # Batch Gradient Descent\n",
        "  for epoch in range(epochs):\n",
        "    # Full data set is used for batch\n",
        "    X_batch = X_train\n",
        "    y_batch = y_train\n",
        "\n",
        "    # Forward Propagation -> Calculate Loss Function -> Backward Propagation\n",
        "    Z1, A1, Z2, A2 = forward_prop(X_batch)\n",
        "    curr_loss = loss(A2, y_batch)\n",
        "    dW1, db1, dW2, db2 = backward_prop(X_batch, y_batch, Z1, A1, Z2, A2)\n",
        "\n",
        "    # Update weights\n",
        "    global W1, b1, W2, b2  # Want these variables to change outside of this function\n",
        "    W1, b1, W2, b2 = update_weights(W1, b1, W2, b2, dW1, db1, dW2, db2, alpha)\n",
        "\n",
        "    if epoch % 9 == 0:\n",
        "      print(f\"Epoch: {epoch+1}/{epochs}, Loss: {curr_loss:.3f}\")\n",
        "\n",
        "def predict(X):\n",
        "  _, _, _, A2 = forward_prop(X)\n",
        "  return np.argmax(A2, axis=1)\n",
        "\n",
        "def accuracy(predictions, Y):\n",
        "  return np.sum(predictions == Y) / Y.size"
      ],
      "metadata": {
        "id": "lEi69RT6rLVW"
      },
      "execution_count": 44,
      "outputs": []
    },
    {
      "cell_type": "code",
      "source": [
        "# Training the model\n",
        "train_model(train_imgs_flat, train_labels, epochs=100, alpha=0.1)\n",
        "predictions = predict(test_imgs_flat)\n",
        "accuracy = accuracy(predictions, test_labels)*100\n",
        "print(f\"Test Accuracy: {accuracy:.3f}%\")"
      ],
      "metadata": {
        "colab": {
          "base_uri": "https://localhost:8080/"
        },
        "id": "qfeH2zm-DywD",
        "outputId": "e399deb8-e0be-405f-9c3b-eca726681583"
      },
      "execution_count": 45,
      "outputs": [
        {
          "output_type": "stream",
          "name": "stdout",
          "text": [
            "Epoch: 1/100, Loss: 2.323\n",
            "Epoch: 10/100, Loss: 2.079\n",
            "Epoch: 19/100, Loss: 1.809\n",
            "Epoch: 28/100, Loss: 1.498\n",
            "Epoch: 37/100, Loss: 1.215\n",
            "Epoch: 46/100, Loss: 1.004\n",
            "Epoch: 55/100, Loss: 0.859\n",
            "Epoch: 64/100, Loss: 0.759\n",
            "Epoch: 73/100, Loss: 0.688\n",
            "Epoch: 82/100, Loss: 0.634\n",
            "Epoch: 91/100, Loss: 0.593\n",
            "Epoch: 100/100, Loss: 0.560\n",
            "Test Accuracy: 87.240%\n"
          ]
        }
      ]
    },
    {
      "cell_type": "code",
      "source": [
        "def test_prediction(digit):\n",
        "    # Finds indices in the test set that are \"digit\"\n",
        "    indices = np.where(test_labels == digit)[0]\n",
        "\n",
        "    # Randomly chooses an index from indices\n",
        "    rand_idx = np.random.choice(indices)\n",
        "\n",
        "    img = test_imgs[rand_idx]\n",
        "    true_label = test_labels[rand_idx]\n",
        "\n",
        "    # Flatten and normalize the image\n",
        "    img_flat = img.reshape(1, -1) / 255.0\n",
        "    prediction = predict(img_flat)  # Model prediction\n",
        "\n",
        "    # Display prediction and image\n",
        "    plt.imshow(img, cmap='gray')\n",
        "    print(f\"Prediction: {prediction[0]}, True Label: {true_label}\\n\")\n",
        "    plt.show()\n",
        "\n",
        "test_prediction(6)"
      ],
      "metadata": {
        "colab": {
          "base_uri": "https://localhost:8080/",
          "height": 466
        },
        "id": "9ziSrn4LDSoL",
        "outputId": "6805bbb4-7cac-45d6-e168-e4affd60deb7"
      },
      "execution_count": 49,
      "outputs": [
        {
          "output_type": "stream",
          "name": "stdout",
          "text": [
            "Prediction: 6, True Label: 6\n",
            "\n"
          ]
        },
        {
          "output_type": "display_data",
          "data": {
            "text/plain": [
              "<Figure size 640x480 with 1 Axes>"
            ],
            "image/png": "[encoded data removed]"
          },
          "metadata": {}
        }
      ]
    }
  ]
}